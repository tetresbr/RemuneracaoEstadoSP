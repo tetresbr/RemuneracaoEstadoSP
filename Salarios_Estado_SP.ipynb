{
  "nbformat": 4,
  "nbformat_minor": 0,
  "metadata": {
    "colab": {
      "name": "Salarios_Estado_SP.ipynb",
      "provenance": [],
      "collapsed_sections": [],
      "toc_visible": true,
      "authorship_tag": "ABX9TyMV1rwK0Hf+OOP3puMDcQep",
      "include_colab_link": true
    },
    "kernelspec": {
      "name": "python3",
      "display_name": "Python 3"
    },
    "language_info": {
      "name": "python"
    }
  },
  "cells": [
    {
      "cell_type": "markdown",
      "metadata": {
        "id": "view-in-github",
        "colab_type": "text"
      },
      "source": [
        "<a href=\"https://colab.research.google.com/github/tetresbr/RemuneracaoEstadoSP/blob/main/Salarios_Estado_SP.ipynb\" target=\"_parent\"><img src=\"https://colab.research.google.com/assets/colab-badge.svg\" alt=\"Open In Colab\"/></a>"
      ]
    },
    {
      "cell_type": "markdown",
      "metadata": {
        "id": "erlqyr2izgWE"
      },
      "source": [
        "# **Salarios dos Policiais Militares do Estado de São Paulo**"
      ]
    },
    {
      "cell_type": "code",
      "metadata": {
        "id": "r2UHwXeTpMFg"
      },
      "source": [
        "import pandas as pd"
      ],
      "execution_count": 1,
      "outputs": []
    },
    {
      "cell_type": "markdown",
      "metadata": {
        "id": "x2N-BzB0cn9l"
      },
      "source": [
        "Dados coletados do site de transparencia do Estado de São Paulo\n",
        "\n",
        "http://www.transparencia.sp.gov.br/buscaRemunera.html\n",
        "\n",
        "Arquivo Servidores Ativos"
      ]
    },
    {
      "cell_type": "code",
      "metadata": {
        "colab": {
          "base_uri": "https://localhost:8080/",
          "height": 238
        },
        "id": "6slZFgREtPOu",
        "outputId": "7838a096-e22a-438d-9be3-d8f6e0812c12"
      },
      "source": [
        "salarios = pd.read_csv(\"RemuneracaoAtivos.csv\", sep=';')\n",
        "salarios = salarios.drop('NOME', 1)\n",
        "salarios.head()"
      ],
      "execution_count": 55,
      "outputs": [
        {
          "output_type": "execute_result",
          "data": {
            "text/html": [
              "<div>\n",
              "<style scoped>\n",
              "    .dataframe tbody tr th:only-of-type {\n",
              "        vertical-align: middle;\n",
              "    }\n",
              "\n",
              "    .dataframe tbody tr th {\n",
              "        vertical-align: top;\n",
              "    }\n",
              "\n",
              "    .dataframe thead th {\n",
              "        text-align: right;\n",
              "    }\n",
              "</style>\n",
              "<table border=\"1\" class=\"dataframe\">\n",
              "  <thead>\n",
              "    <tr style=\"text-align: right;\">\n",
              "      <th></th>\n",
              "      <th>CARGO</th>\n",
              "      <th>ORGÃO</th>\n",
              "      <th>SITUAÇÃO</th>\n",
              "      <th>REMUNERAÇÃO DO MÊS</th>\n",
              "      <th>FÉRIAS E 13º SALÁRIO</th>\n",
              "      <th>PAGAMENTOS EVENTUAIS</th>\n",
              "      <th>LICENÇA PRÊMIO INDENIZADA</th>\n",
              "      <th>ABONO PERMANÊNCIA &amp; OUTRAS INDENIZAÇÕES</th>\n",
              "      <th>REDUTOR SALARIAL</th>\n",
              "      <th>TOTAL LIQUÍDO (R$)</th>\n",
              "    </tr>\n",
              "  </thead>\n",
              "  <tbody>\n",
              "    <tr>\n",
              "      <th>0</th>\n",
              "      <td>OFICIAL ADMINISTRATIVO</td>\n",
              "      <td>DETRAN</td>\n",
              "      <td>ATIVOS</td>\n",
              "      <td>2601,32</td>\n",
              "      <td>0,00</td>\n",
              "      <td>0,00</td>\n",
              "      <td>0,00</td>\n",
              "      <td>114,40</td>\n",
              "      <td>0,00</td>\n",
              "      <td>1260,45</td>\n",
              "    </tr>\n",
              "    <tr>\n",
              "      <th>1</th>\n",
              "      <td>SD 1C PM</td>\n",
              "      <td>PM</td>\n",
              "      <td>ATIVOS</td>\n",
              "      <td>3667,57</td>\n",
              "      <td>1461,85</td>\n",
              "      <td>0,00</td>\n",
              "      <td>0,00</td>\n",
              "      <td>872,70</td>\n",
              "      <td>0,00</td>\n",
              "      <td>4058,90</td>\n",
              "    </tr>\n",
              "    <tr>\n",
              "      <th>2</th>\n",
              "      <td>CAP   PM</td>\n",
              "      <td>PM</td>\n",
              "      <td>ATIVOS</td>\n",
              "      <td>10568,74</td>\n",
              "      <td>0,00</td>\n",
              "      <td>0,00</td>\n",
              "      <td>0,00</td>\n",
              "      <td>319,99</td>\n",
              "      <td>0,00</td>\n",
              "      <td>5767,27</td>\n",
              "    </tr>\n",
              "    <tr>\n",
              "      <th>3</th>\n",
              "      <td>SD 1C PM</td>\n",
              "      <td>PM</td>\n",
              "      <td>ATIVOS</td>\n",
              "      <td>3813,75</td>\n",
              "      <td>1271,25</td>\n",
              "      <td>0,00</td>\n",
              "      <td>0,00</td>\n",
              "      <td>523,62</td>\n",
              "      <td>0,00</td>\n",
              "      <td>4785,89</td>\n",
              "    </tr>\n",
              "    <tr>\n",
              "      <th>4</th>\n",
              "      <td>2TEN  PM</td>\n",
              "      <td>PM</td>\n",
              "      <td>ATIVOS</td>\n",
              "      <td>7058,13</td>\n",
              "      <td>0,00</td>\n",
              "      <td>0,00</td>\n",
              "      <td>0,00</td>\n",
              "      <td>494,53</td>\n",
              "      <td>0,00</td>\n",
              "      <td>5095,23</td>\n",
              "    </tr>\n",
              "  </tbody>\n",
              "</table>\n",
              "</div>"
            ],
            "text/plain": [
              "                    CARGO   ORGÃO  ... REDUTOR SALARIAL TOTAL LIQUÍDO (R$)\n",
              "0  OFICIAL ADMINISTRATIVO  DETRAN  ...             0,00            1260,45\n",
              "1                SD 1C PM      PM  ...             0,00            4058,90\n",
              "2                CAP   PM      PM  ...             0,00            5767,27\n",
              "3                SD 1C PM      PM  ...             0,00            4785,89\n",
              "4                2TEN  PM      PM  ...             0,00            5095,23\n",
              "\n",
              "[5 rows x 10 columns]"
            ]
          },
          "metadata": {
            "tags": []
          },
          "execution_count": 55
        }
      ]
    },
    {
      "cell_type": "code",
      "metadata": {
        "id": "Aqtgf4kEm-0b"
      },
      "source": [
        ""
      ],
      "execution_count": 45,
      "outputs": []
    },
    {
      "cell_type": "markdown",
      "metadata": {
        "id": "PL_ygSUozEPj"
      },
      "source": [
        "## **1 - Quantos Policiais Militares existem atualmente**"
      ]
    },
    {
      "cell_type": "markdown",
      "metadata": {
        "id": "J4VSQdjfdhQV"
      },
      "source": [
        "1.1 - Tratando os Dados"
      ]
    },
    {
      "cell_type": "code",
      "metadata": {
        "id": "9QN0atrcxlYz"
      },
      "source": [
        "pms = salarios.ORGÃO == 'PM'"
      ],
      "execution_count": 46,
      "outputs": []
    },
    {
      "cell_type": "code",
      "metadata": {
        "colab": {
          "base_uri": "https://localhost:8080/",
          "height": 272
        },
        "id": "Lq7uuQeNx7AT",
        "outputId": "6f7d1e5f-dd82-4d12-a0cd-9c74691654ce"
      },
      "source": [
        "salarios_pm = salarios[pms]\n",
        "salarios_pm.head()"
      ],
      "execution_count": 47,
      "outputs": [
        {
          "output_type": "execute_result",
          "data": {
            "text/html": [
              "<div>\n",
              "<style scoped>\n",
              "    .dataframe tbody tr th:only-of-type {\n",
              "        vertical-align: middle;\n",
              "    }\n",
              "\n",
              "    .dataframe tbody tr th {\n",
              "        vertical-align: top;\n",
              "    }\n",
              "\n",
              "    .dataframe thead th {\n",
              "        text-align: right;\n",
              "    }\n",
              "</style>\n",
              "<table border=\"1\" class=\"dataframe\">\n",
              "  <thead>\n",
              "    <tr style=\"text-align: right;\">\n",
              "      <th></th>\n",
              "      <th>CARGO</th>\n",
              "      <th>ORGÃO</th>\n",
              "      <th>SITUAÇÃO</th>\n",
              "      <th>REMUNERAÇÃO DO MÊS</th>\n",
              "      <th>FÉRIAS E 13º SALÁRIO</th>\n",
              "      <th>PAGAMENTOS EVENTUAIS</th>\n",
              "      <th>LICENÇA PRÊMIO INDENIZADA</th>\n",
              "      <th>ABONO PERMANÊNCIA &amp; OUTRAS INDENIZAÇÕES</th>\n",
              "      <th>REDUTOR SALARIAL</th>\n",
              "      <th>TOTAL LIQUÍDO (R$)</th>\n",
              "    </tr>\n",
              "  </thead>\n",
              "  <tbody>\n",
              "    <tr>\n",
              "      <th>1</th>\n",
              "      <td>SD 1C PM</td>\n",
              "      <td>PM</td>\n",
              "      <td>ATIVOS</td>\n",
              "      <td>3667,57</td>\n",
              "      <td>1461,85</td>\n",
              "      <td>0,00</td>\n",
              "      <td>0,00</td>\n",
              "      <td>872,70</td>\n",
              "      <td>0,00</td>\n",
              "      <td>4058,90</td>\n",
              "    </tr>\n",
              "    <tr>\n",
              "      <th>2</th>\n",
              "      <td>CAP   PM</td>\n",
              "      <td>PM</td>\n",
              "      <td>ATIVOS</td>\n",
              "      <td>10568,74</td>\n",
              "      <td>0,00</td>\n",
              "      <td>0,00</td>\n",
              "      <td>0,00</td>\n",
              "      <td>319,99</td>\n",
              "      <td>0,00</td>\n",
              "      <td>5767,27</td>\n",
              "    </tr>\n",
              "    <tr>\n",
              "      <th>3</th>\n",
              "      <td>SD 1C PM</td>\n",
              "      <td>PM</td>\n",
              "      <td>ATIVOS</td>\n",
              "      <td>3813,75</td>\n",
              "      <td>1271,25</td>\n",
              "      <td>0,00</td>\n",
              "      <td>0,00</td>\n",
              "      <td>523,62</td>\n",
              "      <td>0,00</td>\n",
              "      <td>4785,89</td>\n",
              "    </tr>\n",
              "    <tr>\n",
              "      <th>4</th>\n",
              "      <td>2TEN  PM</td>\n",
              "      <td>PM</td>\n",
              "      <td>ATIVOS</td>\n",
              "      <td>7058,13</td>\n",
              "      <td>0,00</td>\n",
              "      <td>0,00</td>\n",
              "      <td>0,00</td>\n",
              "      <td>494,53</td>\n",
              "      <td>0,00</td>\n",
              "      <td>5095,23</td>\n",
              "    </tr>\n",
              "    <tr>\n",
              "      <th>5</th>\n",
              "      <td>CABO  PM</td>\n",
              "      <td>PM</td>\n",
              "      <td>ATIVOS</td>\n",
              "      <td>4378,56</td>\n",
              "      <td>0,00</td>\n",
              "      <td>0,00</td>\n",
              "      <td>0,00</td>\n",
              "      <td>290,90</td>\n",
              "      <td>0,00</td>\n",
              "      <td>3678,87</td>\n",
              "    </tr>\n",
              "  </tbody>\n",
              "</table>\n",
              "</div>"
            ],
            "text/plain": [
              "      CARGO ORGÃO  ... REDUTOR SALARIAL TOTAL LIQUÍDO (R$)\n",
              "1  SD 1C PM    PM  ...             0,00            4058,90\n",
              "2  CAP   PM    PM  ...             0,00            5767,27\n",
              "3  SD 1C PM    PM  ...             0,00            4785,89\n",
              "4  2TEN  PM    PM  ...             0,00            5095,23\n",
              "5  CABO  PM    PM  ...             0,00            3678,87\n",
              "\n",
              "[5 rows x 10 columns]"
            ]
          },
          "metadata": {
            "tags": []
          },
          "execution_count": 47
        }
      ]
    },
    {
      "cell_type": "markdown",
      "metadata": {
        "id": "Usi6tCUbdpaW"
      },
      "source": [
        "1.2 - Resultado"
      ]
    },
    {
      "cell_type": "code",
      "metadata": {
        "colab": {
          "base_uri": "https://localhost:8080/"
        },
        "id": "yVSm19jFyLzc",
        "outputId": "bef735e5-9c28-4e8e-f359-232d7f8503dc"
      },
      "source": [
        "salarios_pm.CARGO.count()"
      ],
      "execution_count": 49,
      "outputs": [
        {
          "output_type": "execute_result",
          "data": {
            "text/plain": [
              "83215"
            ]
          },
          "metadata": {
            "tags": []
          },
          "execution_count": 49
        }
      ]
    },
    {
      "cell_type": "markdown",
      "metadata": {
        "id": "8z-nxpMczsV7"
      },
      "source": [
        "Chegamos a conclusão que atualmente existem **83.215** Policiais Militares na **Ativa**."
      ]
    },
    {
      "cell_type": "markdown",
      "metadata": {
        "id": "BqWhoCAXzQvy"
      },
      "source": [
        "## **2 - Qual o cargo que mais tem policiais na ativa**"
      ]
    },
    {
      "cell_type": "code",
      "metadata": {
        "colab": {
          "base_uri": "https://localhost:8080/"
        },
        "id": "EfOX6eof0fnO",
        "outputId": "60839423-b653-4bd7-8383-a6731494b767"
      },
      "source": [
        "salarios_pm['CARGO'].value_counts()"
      ],
      "execution_count": 50,
      "outputs": [
        {
          "output_type": "execute_result",
          "data": {
            "text/plain": [
              "CABO  PM    36824\n",
              "SD 1C PM    20202\n",
              "SD 2C PM     9821\n",
              "1SGT  PM     4770\n",
              "2SGT  PM     3501\n",
              "1TEN  PM     2034\n",
              "CAP   PM     1684\n",
              "3SGT  PM     1416\n",
              "STEN  PM     1371\n",
              "MAJ   PM      528\n",
              "TCEL  PM      280\n",
              "2TEN  PM      237\n",
              "3CFO  PM      177\n",
              "2CFO  PM      177\n",
              "1CFO  PM      115\n",
              "CEL   PM       73\n",
              "ASPOF PM        2\n",
              "PROF PM         2\n",
              "CMT  GER        1\n",
              "Name: CARGO, dtype: int64"
            ]
          },
          "metadata": {
            "tags": []
          },
          "execution_count": 50
        }
      ]
    },
    {
      "cell_type": "code",
      "metadata": {
        "colab": {
          "base_uri": "https://localhost:8080/",
          "height": 323
        },
        "id": "hYacfJdzkDJs",
        "outputId": "378b684f-6bfa-4f71-aeb5-fa5de6f8fb99"
      },
      "source": [
        "salarios_pm['CARGO'].value_counts().plot(kind='bar')"
      ],
      "execution_count": 51,
      "outputs": [
        {
          "output_type": "execute_result",
          "data": {
            "text/plain": [
              "<matplotlib.axes._subplots.AxesSubplot at 0x7fcfd62861d0>"
            ]
          },
          "metadata": {
            "tags": []
          },
          "execution_count": 51
        },
        {
          "output_type": "display_data",
          "data": {
            "image/png": "[encoded data removed]",
            "text/plain": [
              "<Figure size 432x288 with 1 Axes>"
            ]
          },
          "metadata": {
            "tags": [],
            "needs_background": "light"
          }
        }
      ]
    },
    {
      "cell_type": "markdown",
      "metadata": {
        "id": "lU3zUg-3hmz1"
      },
      "source": [
        "Podemos chegar a conclusão que o cargo com mais policiais na ativa é o de Cabo.\n",
        "\n",
        "Dado interessante, já que o militarismo deveria seguir um esquema de piramide, onde a base, que no caso deveriam ser **Soldados**, deveria ser maior, seguido por **Cabos**, 3SGT, 2SGT, 1SGT e STEN."
      ]
    },
    {
      "cell_type": "markdown",
      "metadata": {
        "id": "TPvKVA5ozZED"
      },
      "source": [
        "## **3 - Qual o cargo com menos policiais na ativa**"
      ]
    },
    {
      "cell_type": "code",
      "metadata": {
        "id": "XiDmdy-c0tCz",
        "colab": {
          "base_uri": "https://localhost:8080/"
        },
        "outputId": "4ebe7fd4-27ff-43f7-e695-fc840d53206b"
      },
      "source": [
        "salarios_pm['CARGO'].value_counts()"
      ],
      "execution_count": 52,
      "outputs": [
        {
          "output_type": "execute_result",
          "data": {
            "text/plain": [
              "CABO  PM    36824\n",
              "SD 1C PM    20202\n",
              "SD 2C PM     9821\n",
              "1SGT  PM     4770\n",
              "2SGT  PM     3501\n",
              "1TEN  PM     2034\n",
              "CAP   PM     1684\n",
              "3SGT  PM     1416\n",
              "STEN  PM     1371\n",
              "MAJ   PM      528\n",
              "TCEL  PM      280\n",
              "2TEN  PM      237\n",
              "3CFO  PM      177\n",
              "2CFO  PM      177\n",
              "1CFO  PM      115\n",
              "CEL   PM       73\n",
              "ASPOF PM        2\n",
              "PROF PM         2\n",
              "CMT  GER        1\n",
              "Name: CARGO, dtype: int64"
            ]
          },
          "metadata": {
            "tags": []
          },
          "execution_count": 52
        }
      ]
    },
    {
      "cell_type": "code",
      "metadata": {
        "colab": {
          "base_uri": "https://localhost:8080/",
          "height": 282
        },
        "id": "zPwZsvUDkYbk",
        "outputId": "50263c24-5478-4229-90a8-4fde74af8ebe"
      },
      "source": [
        "salarios_pm['CARGO'].value_counts().plot()"
      ],
      "execution_count": 53,
      "outputs": [
        {
          "output_type": "execute_result",
          "data": {
            "text/plain": [
              "<matplotlib.axes._subplots.AxesSubplot at 0x7fcfdae900d0>"
            ]
          },
          "metadata": {
            "tags": []
          },
          "execution_count": 53
        },
        {
          "output_type": "display_data",
          "data": {
            "image/png": "[encoded data removed]",
            "text/plain": [
              "<Figure size 432x288 with 1 Axes>"
            ]
          },
          "metadata": {
            "tags": [],
            "needs_background": "light"
          }
        }
      ]
    },
    {
      "cell_type": "markdown",
      "metadata": {
        "id": "MECGhHm9g6BU"
      },
      "source": [
        "Conseguimos verificar que o cargo com menos pessoas seria o CMT Geral, porém não poderiamos levar em consideração esse dado, visto que pode existir apenas 1 CMT Geral.\n",
        "\n",
        "Neste caso podemos levar em conta os cargos, Prof PM que tem apenas 2 ativos.\n",
        "\n",
        "Temos tambem o caso de Aspirante a Oficial, onde existem apenas 2, no caso pode ser por não ter sido formada a nova turma da Academia do Barro Branco.\n",
        "\n",
        "Chegamos ao cargo de CEL, que possui apenas 73 policiais na ativa."
      ]
    }
  ]
}